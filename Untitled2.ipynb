
import torch
from torchvision import models, transforms
from PIL import Image

# Load the pre-trained model
model = models.resnet152(pretrained=True)
model.eval()

# Preprocess the image
transform = transforms.Compose([
    transforms.Resize((224, 224)),
    transforms.ToTensor(),
    transforms.Normalize(mean=[0.485, 0.456, 0.406], std=[0.229, 0.224, 0.225]),
])

# Load and preprocess the image
image = Image.open("image.jpg")
image = transform(image).unsqueeze(0)

# Make predictions
with torch.no_grad():
    outputs = model(image)

# Get the predicted class labels
_, predicted_idx = torch.max(outputs, 1)
predicted_label = predicted_idx.item()

# Load the class labels
with open("imagenet_classes.txt") as f:
    labels = f.readlines()

# Print the predicted label
print("Predicted label:", labels[predicted_label])
