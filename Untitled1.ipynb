from PIL import Image
from IPython.display import display

# Open the image file
image = Image.open("image.jpg")

# Display the image
display(image)
